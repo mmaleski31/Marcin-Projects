{
 "cells": [
  {
   "cell_type": "code",
   "execution_count": 1,
   "id": "8627afd0",
   "metadata": {},
   "outputs": [],
   "source": [
    "#imported all necessary packages\n",
    "\n",
    "import pandas as pd\n",
    "from matplotlib import pyplot as plt\n",
    "import seaborn as sns\n",
    "import numpy as np\n",
    "import random"
   ]
  },
  {
   "cell_type": "code",
   "execution_count": 2,
   "id": "db042d0d",
   "metadata": {},
   "outputs": [
    {
     "data": {
      "text/html": [
       "<div>\n",
       "<style scoped>\n",
       "    .dataframe tbody tr th:only-of-type {\n",
       "        vertical-align: middle;\n",
       "    }\n",
       "\n",
       "    .dataframe tbody tr th {\n",
       "        vertical-align: top;\n",
       "    }\n",
       "\n",
       "    .dataframe thead th {\n",
       "        text-align: right;\n",
       "    }\n",
       "</style>\n",
       "<table border=\"1\" class=\"dataframe\">\n",
       "  <thead>\n",
       "    <tr style=\"text-align: right;\">\n",
       "      <th></th>\n",
       "      <th>Year</th>\n",
       "      <th>Player</th>\n",
       "      <th>Age</th>\n",
       "      <th>School</th>\n",
       "      <th>Height</th>\n",
       "      <th>Weight</th>\n",
       "      <th>Sprint_40yd</th>\n",
       "      <th>Vertical_Jump</th>\n",
       "      <th>Bench_Press_Reps</th>\n",
       "      <th>Broad_Jump</th>\n",
       "      <th>Agility_3cone</th>\n",
       "      <th>Shuttle</th>\n",
       "      <th>Drafted..tm.rnd.yr.</th>\n",
       "      <th>BMI</th>\n",
       "      <th>Player_Type</th>\n",
       "      <th>Position_Type</th>\n",
       "      <th>Position</th>\n",
       "      <th>Drafted</th>\n",
       "    </tr>\n",
       "  </thead>\n",
       "  <tbody>\n",
       "    <tr>\n",
       "      <th>0</th>\n",
       "      <td>2009</td>\n",
       "      <td>Beanie Wells\\WellCh00</td>\n",
       "      <td>20.0</td>\n",
       "      <td>Ohio St.</td>\n",
       "      <td>1.8542</td>\n",
       "      <td>106.594207</td>\n",
       "      <td>4.38</td>\n",
       "      <td>85.09</td>\n",
       "      <td>25.0</td>\n",
       "      <td>325.12</td>\n",
       "      <td>NaN</td>\n",
       "      <td>NaN</td>\n",
       "      <td>Arizona Cardinals / 1st / 31st pick / 2009</td>\n",
       "      <td>31.004194</td>\n",
       "      <td>offense</td>\n",
       "      <td>backs_receivers</td>\n",
       "      <td>RB</td>\n",
       "      <td>Yes</td>\n",
       "    </tr>\n",
       "    <tr>\n",
       "      <th>1</th>\n",
       "      <td>2009</td>\n",
       "      <td>Will Davis\\DaviWi99</td>\n",
       "      <td>22.0</td>\n",
       "      <td>Illinois</td>\n",
       "      <td>1.8796</td>\n",
       "      <td>118.387609</td>\n",
       "      <td>4.84</td>\n",
       "      <td>83.82</td>\n",
       "      <td>27.0</td>\n",
       "      <td>292.10</td>\n",
       "      <td>7.38</td>\n",
       "      <td>4.45</td>\n",
       "      <td>Arizona Cardinals / 6th / 204th pick / 2009</td>\n",
       "      <td>33.510073</td>\n",
       "      <td>defense</td>\n",
       "      <td>defensive_lineman</td>\n",
       "      <td>DE</td>\n",
       "      <td>Yes</td>\n",
       "    </tr>\n",
       "    <tr>\n",
       "      <th>2</th>\n",
       "      <td>2009</td>\n",
       "      <td>Herman Johnson\\JohnHe23</td>\n",
       "      <td>24.0</td>\n",
       "      <td>LSU</td>\n",
       "      <td>2.0066</td>\n",
       "      <td>165.107623</td>\n",
       "      <td>5.50</td>\n",
       "      <td>NaN</td>\n",
       "      <td>21.0</td>\n",
       "      <td>NaN</td>\n",
       "      <td>NaN</td>\n",
       "      <td>NaN</td>\n",
       "      <td>Arizona Cardinals / 5th / 167th pick / 2009</td>\n",
       "      <td>41.005821</td>\n",
       "      <td>offense</td>\n",
       "      <td>offensive_lineman</td>\n",
       "      <td>OG</td>\n",
       "      <td>Yes</td>\n",
       "    </tr>\n",
       "    <tr>\n",
       "      <th>3</th>\n",
       "      <td>2009</td>\n",
       "      <td>Rashad Johnson\\JohnRa98</td>\n",
       "      <td>23.0</td>\n",
       "      <td>Alabama</td>\n",
       "      <td>1.8034</td>\n",
       "      <td>92.079251</td>\n",
       "      <td>4.49</td>\n",
       "      <td>93.98</td>\n",
       "      <td>15.0</td>\n",
       "      <td>304.80</td>\n",
       "      <td>7.09</td>\n",
       "      <td>4.23</td>\n",
       "      <td>Arizona Cardinals / 3rd / 95th pick / 2009</td>\n",
       "      <td>28.312463</td>\n",
       "      <td>defense</td>\n",
       "      <td>defensive_back</td>\n",
       "      <td>FS</td>\n",
       "      <td>Yes</td>\n",
       "    </tr>\n",
       "    <tr>\n",
       "      <th>4</th>\n",
       "      <td>2009</td>\n",
       "      <td>Cody Brown\\BrowCo96</td>\n",
       "      <td>22.0</td>\n",
       "      <td>Connecticut</td>\n",
       "      <td>1.8796</td>\n",
       "      <td>110.676538</td>\n",
       "      <td>4.76</td>\n",
       "      <td>92.71</td>\n",
       "      <td>26.0</td>\n",
       "      <td>304.80</td>\n",
       "      <td>7.10</td>\n",
       "      <td>4.40</td>\n",
       "      <td>Arizona Cardinals / 2nd / 63rd pick / 2009</td>\n",
       "      <td>31.327425</td>\n",
       "      <td>defense</td>\n",
       "      <td>line_backer</td>\n",
       "      <td>OLB</td>\n",
       "      <td>Yes</td>\n",
       "    </tr>\n",
       "  </tbody>\n",
       "</table>\n",
       "</div>"
      ],
      "text/plain": [
       "   Year                   Player   Age       School  Height      Weight  \\\n",
       "0  2009    Beanie Wells\\WellCh00  20.0     Ohio St.  1.8542  106.594207   \n",
       "1  2009      Will Davis\\DaviWi99  22.0     Illinois  1.8796  118.387609   \n",
       "2  2009  Herman Johnson\\JohnHe23  24.0          LSU  2.0066  165.107623   \n",
       "3  2009  Rashad Johnson\\JohnRa98  23.0      Alabama  1.8034   92.079251   \n",
       "4  2009      Cody Brown\\BrowCo96  22.0  Connecticut  1.8796  110.676538   \n",
       "\n",
       "   Sprint_40yd  Vertical_Jump  Bench_Press_Reps  Broad_Jump  Agility_3cone  \\\n",
       "0         4.38          85.09              25.0      325.12            NaN   \n",
       "1         4.84          83.82              27.0      292.10           7.38   \n",
       "2         5.50            NaN              21.0         NaN            NaN   \n",
       "3         4.49          93.98              15.0      304.80           7.09   \n",
       "4         4.76          92.71              26.0      304.80           7.10   \n",
       "\n",
       "   Shuttle                          Drafted..tm.rnd.yr.        BMI  \\\n",
       "0      NaN   Arizona Cardinals / 1st / 31st pick / 2009  31.004194   \n",
       "1     4.45  Arizona Cardinals / 6th / 204th pick / 2009  33.510073   \n",
       "2      NaN  Arizona Cardinals / 5th / 167th pick / 2009  41.005821   \n",
       "3     4.23   Arizona Cardinals / 3rd / 95th pick / 2009  28.312463   \n",
       "4     4.40   Arizona Cardinals / 2nd / 63rd pick / 2009  31.327425   \n",
       "\n",
       "  Player_Type      Position_Type Position Drafted  \n",
       "0     offense    backs_receivers       RB     Yes  \n",
       "1     defense  defensive_lineman       DE     Yes  \n",
       "2     offense  offensive_lineman       OG     Yes  \n",
       "3     defense     defensive_back       FS     Yes  \n",
       "4     defense        line_backer      OLB     Yes  "
      ]
     },
     "execution_count": 2,
     "metadata": {},
     "output_type": "execute_result"
    }
   ],
   "source": [
    "#created initial dataframe from nfl combine data from 2009-2019\n",
    "\n",
    "df = pd.read_csv('/Users/marcinmaleski/Desktop/MDA530/NFL.csv')\n",
    "df.head()"
   ]
  },
  {
   "cell_type": "code",
   "execution_count": 3,
   "id": "cae40154",
   "metadata": {},
   "outputs": [
    {
     "name": "stderr",
     "output_type": "stream",
     "text": [
      "/var/folders/9t/1wc6rw8s42dgkg2ynsqn0f440000gn/T/ipykernel_80951/1224592887.py:4: SettingWithCopyWarning: \n",
      "A value is trying to be set on a copy of a slice from a DataFrame.\n",
      "Try using .loc[row_indexer,col_indexer] = value instead\n",
      "\n",
      "See the caveats in the documentation: https://pandas.pydata.org/pandas-docs/stable/user_guide/indexing.html#returning-a-view-versus-a-copy\n",
      "  df3['Weight'] = df3['Weight'] * 2.2046\n",
      "/var/folders/9t/1wc6rw8s42dgkg2ynsqn0f440000gn/T/ipykernel_80951/1224592887.py:5: SettingWithCopyWarning: \n",
      "A value is trying to be set on a copy of a slice from a DataFrame.\n",
      "Try using .loc[row_indexer,col_indexer] = value instead\n",
      "\n",
      "See the caveats in the documentation: https://pandas.pydata.org/pandas-docs/stable/user_guide/indexing.html#returning-a-view-versus-a-copy\n",
      "  df3['Weight'] = df3['Weight'].round(0)\n",
      "/var/folders/9t/1wc6rw8s42dgkg2ynsqn0f440000gn/T/ipykernel_80951/1224592887.py:6: SettingWithCopyWarning: \n",
      "A value is trying to be set on a copy of a slice from a DataFrame.\n",
      "Try using .loc[row_indexer,col_indexer] = value instead\n",
      "\n",
      "See the caveats in the documentation: https://pandas.pydata.org/pandas-docs/stable/user_guide/indexing.html#returning-a-view-versus-a-copy\n",
      "  df3['Height'] = df3['Height'] * 3.281\n",
      "/var/folders/9t/1wc6rw8s42dgkg2ynsqn0f440000gn/T/ipykernel_80951/1224592887.py:7: SettingWithCopyWarning: \n",
      "A value is trying to be set on a copy of a slice from a DataFrame.\n",
      "Try using .loc[row_indexer,col_indexer] = value instead\n",
      "\n",
      "See the caveats in the documentation: https://pandas.pydata.org/pandas-docs/stable/user_guide/indexing.html#returning-a-view-versus-a-copy\n",
      "  df3['Height'] = df3['Height'].round(1)\n"
     ]
    }
   ],
   "source": [
    "#eliminated uncessary columns and dropped all NA values\n",
    "#configured height and weight columns from metric to standard \n",
    "\n",
    "df2 = df[['School', 'Height', 'Weight', 'Sprint_40yd', 'Vertical_Jump',\n",
    "          'Bench_Press_Reps','Broad_Jump', 'Agility_3cone','Position_Type', 'Drafted']].copy()\n",
    "df3 = df2.dropna()\n",
    "df3['Weight'] = df3['Weight'] * 2.2046\n",
    "df3['Weight'] = df3['Weight'].round(0)\n",
    "df3['Height'] = df3['Height'] * 3.281\n",
    "df3['Height'] = df3['Height'].round(1)"
   ]
  },
  {
   "cell_type": "code",
   "execution_count": 38,
   "id": "a12c51e0",
   "metadata": {},
   "outputs": [
    {
     "data": {
      "text/html": [
       "<div>\n",
       "<style scoped>\n",
       "    .dataframe tbody tr th:only-of-type {\n",
       "        vertical-align: middle;\n",
       "    }\n",
       "\n",
       "    .dataframe tbody tr th {\n",
       "        vertical-align: top;\n",
       "    }\n",
       "\n",
       "    .dataframe thead th {\n",
       "        text-align: right;\n",
       "    }\n",
       "</style>\n",
       "<table border=\"1\" class=\"dataframe\">\n",
       "  <thead>\n",
       "    <tr style=\"text-align: right;\">\n",
       "      <th></th>\n",
       "      <th>School</th>\n",
       "      <th>Height</th>\n",
       "      <th>Weight</th>\n",
       "      <th>Sprint_40yd</th>\n",
       "      <th>Vertical_Jump</th>\n",
       "      <th>Bench_Press_Reps</th>\n",
       "      <th>Broad_Jump</th>\n",
       "      <th>Agility_3cone</th>\n",
       "      <th>Position_Type</th>\n",
       "      <th>Drafted</th>\n",
       "    </tr>\n",
       "  </thead>\n",
       "  <tbody>\n",
       "    <tr>\n",
       "      <th>1</th>\n",
       "      <td>Illinois</td>\n",
       "      <td>6.2</td>\n",
       "      <td>261.0</td>\n",
       "      <td>4.84</td>\n",
       "      <td>83.82</td>\n",
       "      <td>27.0</td>\n",
       "      <td>292.10</td>\n",
       "      <td>7.38</td>\n",
       "      <td>defensive_lineman</td>\n",
       "      <td>Yes</td>\n",
       "    </tr>\n",
       "    <tr>\n",
       "      <th>3</th>\n",
       "      <td>Alabama</td>\n",
       "      <td>5.9</td>\n",
       "      <td>203.0</td>\n",
       "      <td>4.49</td>\n",
       "      <td>93.98</td>\n",
       "      <td>15.0</td>\n",
       "      <td>304.80</td>\n",
       "      <td>7.09</td>\n",
       "      <td>defensive_back</td>\n",
       "      <td>Yes</td>\n",
       "    </tr>\n",
       "    <tr>\n",
       "      <th>4</th>\n",
       "      <td>Connecticut</td>\n",
       "      <td>6.2</td>\n",
       "      <td>244.0</td>\n",
       "      <td>4.76</td>\n",
       "      <td>92.71</td>\n",
       "      <td>26.0</td>\n",
       "      <td>304.80</td>\n",
       "      <td>7.10</td>\n",
       "      <td>line_backer</td>\n",
       "      <td>Yes</td>\n",
       "    </tr>\n",
       "    <tr>\n",
       "      <th>7</th>\n",
       "      <td>North Carolina</td>\n",
       "      <td>6.7</td>\n",
       "      <td>309.0</td>\n",
       "      <td>5.32</td>\n",
       "      <td>55.88</td>\n",
       "      <td>19.0</td>\n",
       "      <td>238.76</td>\n",
       "      <td>7.87</td>\n",
       "      <td>offensive_lineman</td>\n",
       "      <td>Yes</td>\n",
       "    </tr>\n",
       "    <tr>\n",
       "      <th>8</th>\n",
       "      <td>Richmond</td>\n",
       "      <td>6.2</td>\n",
       "      <td>266.0</td>\n",
       "      <td>4.53</td>\n",
       "      <td>88.90</td>\n",
       "      <td>28.0</td>\n",
       "      <td>304.80</td>\n",
       "      <td>7.46</td>\n",
       "      <td>defensive_lineman</td>\n",
       "      <td>Yes</td>\n",
       "    </tr>\n",
       "  </tbody>\n",
       "</table>\n",
       "</div>"
      ],
      "text/plain": [
       "           School  Height  Weight  Sprint_40yd  Vertical_Jump  \\\n",
       "1        Illinois     6.2   261.0         4.84          83.82   \n",
       "3         Alabama     5.9   203.0         4.49          93.98   \n",
       "4     Connecticut     6.2   244.0         4.76          92.71   \n",
       "7  North Carolina     6.7   309.0         5.32          55.88   \n",
       "8        Richmond     6.2   266.0         4.53          88.90   \n",
       "\n",
       "   Bench_Press_Reps  Broad_Jump  Agility_3cone      Position_Type Drafted  \n",
       "1              27.0      292.10           7.38  defensive_lineman     Yes  \n",
       "3              15.0      304.80           7.09     defensive_back     Yes  \n",
       "4              26.0      304.80           7.10        line_backer     Yes  \n",
       "7              19.0      238.76           7.87  offensive_lineman     Yes  \n",
       "8              28.0      304.80           7.46  defensive_lineman     Yes  "
      ]
     },
     "execution_count": 38,
     "metadata": {},
     "output_type": "execute_result"
    }
   ],
   "source": [
    "#new dataframe\n",
    "df3.head()"
   ]
  },
  {
   "cell_type": "code",
   "execution_count": 5,
   "id": "5d285ef6",
   "metadata": {},
   "outputs": [
    {
     "data": {
      "text/plain": [
       "School              1755\n",
       "Height              1755\n",
       "Weight              1755\n",
       "Sprint_40yd         1755\n",
       "Vertical_Jump       1755\n",
       "Bench_Press_Reps    1755\n",
       "Broad_Jump          1755\n",
       "Agility_3cone       1755\n",
       "Position_Type       1755\n",
       "Drafted             1755\n",
       "dtype: int64"
      ]
     },
     "execution_count": 5,
     "metadata": {},
     "output_type": "execute_result"
    }
   ],
   "source": [
    "#value count \n",
    "df3.count()"
   ]
  },
  {
   "cell_type": "code",
   "execution_count": 6,
   "id": "bc9ec3c0",
   "metadata": {},
   "outputs": [
    {
     "data": {
      "text/html": [
       "<div>\n",
       "<style scoped>\n",
       "    .dataframe tbody tr th:only-of-type {\n",
       "        vertical-align: middle;\n",
       "    }\n",
       "\n",
       "    .dataframe tbody tr th {\n",
       "        vertical-align: top;\n",
       "    }\n",
       "\n",
       "    .dataframe thead th {\n",
       "        text-align: right;\n",
       "    }\n",
       "</style>\n",
       "<table border=\"1\" class=\"dataframe\">\n",
       "  <thead>\n",
       "    <tr style=\"text-align: right;\">\n",
       "      <th></th>\n",
       "      <th>School</th>\n",
       "      <th>Height</th>\n",
       "      <th>Weight</th>\n",
       "      <th>Sprint_40yd</th>\n",
       "      <th>Vertical_Jump</th>\n",
       "      <th>Bench_Press_Reps</th>\n",
       "      <th>Broad_Jump</th>\n",
       "      <th>Agility_3cone</th>\n",
       "      <th>Position_Type</th>\n",
       "      <th>Drafted</th>\n",
       "    </tr>\n",
       "  </thead>\n",
       "  <tbody>\n",
       "    <tr>\n",
       "      <th>1</th>\n",
       "      <td>Illinois</td>\n",
       "      <td>6.2</td>\n",
       "      <td>261.0</td>\n",
       "      <td>4.84</td>\n",
       "      <td>83.82</td>\n",
       "      <td>27.0</td>\n",
       "      <td>292.10</td>\n",
       "      <td>7.38</td>\n",
       "      <td>defensive_lineman</td>\n",
       "      <td>Yes</td>\n",
       "    </tr>\n",
       "    <tr>\n",
       "      <th>3</th>\n",
       "      <td>Alabama</td>\n",
       "      <td>5.9</td>\n",
       "      <td>203.0</td>\n",
       "      <td>4.49</td>\n",
       "      <td>93.98</td>\n",
       "      <td>15.0</td>\n",
       "      <td>304.80</td>\n",
       "      <td>7.09</td>\n",
       "      <td>defensive_back</td>\n",
       "      <td>Yes</td>\n",
       "    </tr>\n",
       "    <tr>\n",
       "      <th>4</th>\n",
       "      <td>Connecticut</td>\n",
       "      <td>6.2</td>\n",
       "      <td>244.0</td>\n",
       "      <td>4.76</td>\n",
       "      <td>92.71</td>\n",
       "      <td>26.0</td>\n",
       "      <td>304.80</td>\n",
       "      <td>7.10</td>\n",
       "      <td>line_backer</td>\n",
       "      <td>Yes</td>\n",
       "    </tr>\n",
       "    <tr>\n",
       "      <th>7</th>\n",
       "      <td>North Carolina</td>\n",
       "      <td>6.7</td>\n",
       "      <td>309.0</td>\n",
       "      <td>5.32</td>\n",
       "      <td>55.88</td>\n",
       "      <td>19.0</td>\n",
       "      <td>238.76</td>\n",
       "      <td>7.87</td>\n",
       "      <td>offensive_lineman</td>\n",
       "      <td>Yes</td>\n",
       "    </tr>\n",
       "    <tr>\n",
       "      <th>8</th>\n",
       "      <td>Richmond</td>\n",
       "      <td>6.2</td>\n",
       "      <td>266.0</td>\n",
       "      <td>4.53</td>\n",
       "      <td>88.90</td>\n",
       "      <td>28.0</td>\n",
       "      <td>304.80</td>\n",
       "      <td>7.46</td>\n",
       "      <td>defensive_lineman</td>\n",
       "      <td>Yes</td>\n",
       "    </tr>\n",
       "  </tbody>\n",
       "</table>\n",
       "</div>"
      ],
      "text/plain": [
       "           School  Height  Weight  Sprint_40yd  Vertical_Jump  \\\n",
       "1        Illinois     6.2   261.0         4.84          83.82   \n",
       "3         Alabama     5.9   203.0         4.49          93.98   \n",
       "4     Connecticut     6.2   244.0         4.76          92.71   \n",
       "7  North Carolina     6.7   309.0         5.32          55.88   \n",
       "8        Richmond     6.2   266.0         4.53          88.90   \n",
       "\n",
       "   Bench_Press_Reps  Broad_Jump  Agility_3cone      Position_Type Drafted  \n",
       "1              27.0      292.10           7.38  defensive_lineman     Yes  \n",
       "3              15.0      304.80           7.09     defensive_back     Yes  \n",
       "4              26.0      304.80           7.10        line_backer     Yes  \n",
       "7              19.0      238.76           7.87  offensive_lineman     Yes  \n",
       "8              28.0      304.80           7.46  defensive_lineman     Yes  "
      ]
     },
     "execution_count": 6,
     "metadata": {},
     "output_type": "execute_result"
    }
   ],
   "source": [
    "df3.head()"
   ]
  },
  {
   "cell_type": "code",
   "execution_count": null,
   "id": "8acb9fd0",
   "metadata": {},
   "outputs": [],
   "source": []
  },
  {
   "cell_type": "code",
   "execution_count": 7,
   "id": "3c3b73d5",
   "metadata": {},
   "outputs": [
    {
     "data": {
      "text/plain": [
       "Text(0, 0.5, '')"
      ]
     },
     "execution_count": 7,
     "metadata": {},
     "output_type": "execute_result"
    },
    {
     "data": {
      "image/png": "[encoded data removed]",
      "text/plain": [
       "<Figure size 432x288 with 1 Axes>"
      ]
     },
     "metadata": {},
     "output_type": "display_data"
    }
   ],
   "source": [
    "#used a pie chart to visulaize the number of players per position\n",
    "\n",
    "Position_Count = df3.groupby(\"Position_Type\")[\"Position_Type\"].count()\n",
    "Position_Count.plot.pie(autopct='%.2f%%', title=\" NFL Combine Positions\") \n",
    "plt.ylabel('')"
   ]
  },
  {
   "cell_type": "code",
   "execution_count": 8,
   "id": "34c4692c",
   "metadata": {},
   "outputs": [
    {
     "data": {
      "text/plain": [
       "302.2023734729494"
      ]
     },
     "execution_count": 8,
     "metadata": {},
     "output_type": "execute_result"
    }
   ],
   "source": [
    "Backs_recievers = df3.loc[df3['Position_Type'] == 'backs_receivers'] \n",
    "br_jump_mean = Backs_recievers['Broad_Jump'].mean()\n",
    "br_jump_mean"
   ]
  },
  {
   "cell_type": "code",
   "execution_count": 9,
   "id": "8931b533",
   "metadata": {},
   "outputs": [
    {
     "data": {
      "text/plain": [
       "258.43211594202893"
      ]
     },
     "execution_count": 9,
     "metadata": {},
     "output_type": "execute_result"
    }
   ],
   "source": [
    "Oline_jump = df3.loc[df3['Position_Type'] == 'offensive_lineman']\n",
    "oline_jump_mean = Oline_jump['Broad_Jump'].mean()\n",
    "oline_jump_mean"
   ]
  },
  {
   "cell_type": "code",
   "execution_count": 10,
   "id": "d63dda3a",
   "metadata": {},
   "outputs": [
    {
     "data": {
      "text/plain": [
       "308.03681415929185"
      ]
     },
     "execution_count": 10,
     "metadata": {},
     "output_type": "execute_result"
    }
   ],
   "source": [
    "dbacks = df3.loc[df3['Position_Type'] == 'defensive_back']\n",
    "dbacks_jump_mean = dbacks['Broad_Jump'].mean()\n",
    "dbacks_jump_mean"
   ]
  },
  {
   "cell_type": "code",
   "execution_count": 11,
   "id": "62651fdc",
   "metadata": {},
   "outputs": [
    {
     "data": {
      "text/plain": [
       "array(['defensive_lineman', 'defensive_back', 'line_backer',\n",
       "       'offensive_lineman', 'backs_receivers', 'other_special'],\n",
       "      dtype=object)"
      ]
     },
     "execution_count": 11,
     "metadata": {},
     "output_type": "execute_result"
    }
   ],
   "source": [
    "df3['Position_Type'].unique()"
   ]
  },
  {
   "cell_type": "code",
   "execution_count": 12,
   "id": "44f90d45",
   "metadata": {},
   "outputs": [],
   "source": [
    "dline = df3.loc[df3['Position_Type'] == 'defensive_lineman']"
   ]
  },
  {
   "cell_type": "code",
   "execution_count": 13,
   "id": "3d3e3d10",
   "metadata": {},
   "outputs": [
    {
     "data": {
      "text/plain": [
       "279.76409556313996"
      ]
     },
     "execution_count": 13,
     "metadata": {},
     "output_type": "execute_result"
    }
   ],
   "source": [
    "dline_jump_mean = dline['Broad_Jump'].mean()\n",
    "dline_jump_mean"
   ]
  },
  {
   "cell_type": "code",
   "execution_count": 14,
   "id": "f0518b7e",
   "metadata": {},
   "outputs": [
    {
     "data": {
      "text/plain": [
       "297.9432512315271"
      ]
     },
     "execution_count": 14,
     "metadata": {},
     "output_type": "execute_result"
    }
   ],
   "source": [
    "lbacks = df3.loc[df3['Position_Type'] == 'line_backer']\n",
    "lback_jump_mean = lbacks['Broad_Jump'].mean()\n",
    "lback_jump_mean"
   ]
  },
  {
   "cell_type": "code",
   "execution_count": 15,
   "id": "6ea860eb",
   "metadata": {},
   "outputs": [
    {
     "data": {
      "text/plain": [
       "290.83000000000004"
      ]
     },
     "execution_count": 15,
     "metadata": {},
     "output_type": "execute_result"
    }
   ],
   "source": [
    "specialteam = df3.loc[df3['Position_Type'] == 'other_special']\n",
    "specialteam_jump = specialteam['Broad_Jump'].mean()\n",
    "specialteam_jump"
   ]
  },
  {
   "cell_type": "code",
   "execution_count": 16,
   "id": "291c02c0",
   "metadata": {},
   "outputs": [
    {
     "data": {
      "text/plain": [
       "290.47324216524225"
      ]
     },
     "execution_count": 16,
     "metadata": {},
     "output_type": "execute_result"
    }
   ],
   "source": [
    "jumpavg = df3['Broad_Jump'].mean()\n",
    "jumpavg"
   ]
  },
  {
   "cell_type": "code",
   "execution_count": 17,
   "id": "4e8f74d5",
   "metadata": {},
   "outputs": [
    {
     "data": {
      "text/plain": [
       "Text(0, 0.5, 'Broad Jump Distance CM')"
      ]
     },
     "execution_count": 17,
     "metadata": {},
     "output_type": "execute_result"
    },
    {
     "data": {
      "image/png": "[encoded data removed]",
      "text/plain": [
       "<Figure size 432x288 with 1 Axes>"
      ]
     },
     "metadata": {
      "needs_background": "light"
     },
     "output_type": "display_data"
    }
   ],
   "source": [
    "#found the average broad jump distance per position and used a bar graph to show the comparisons between positons.\n",
    "\n",
    "Player_Pos_jump = (jumpavg, specialteam_jump, lback_jump_mean,\n",
    "                   dline_jump_mean, dbacks_jump_mean, oline_jump_mean, br_jump_mean)\n",
    "Pos = ('Combine Avg', 'Special Team', 'Line Backers',\n",
    "      'Defensive Lineman', 'Defensive Backs', 'Offensive Line', 'Backs and Recievers')\n",
    "\n",
    "\n",
    "plt.bar(Pos[0], Player_Pos_jump[0], color = \"orange\")\n",
    "plt.bar(Pos[1], Player_Pos_jump[1], color = \"green\")\n",
    "plt.bar(Pos[2], Player_Pos_jump[2], color = \"blue\")\n",
    "plt.bar(Pos[3], Player_Pos_jump[3], color = \"purple\")\n",
    "plt.bar(Pos[4], Player_Pos_jump[4], color = \"pink\")\n",
    "plt.bar(Pos[5], Player_Pos_jump[5], color = \"red\")\n",
    "plt.bar(Pos[6], Player_Pos_jump[6], color = \"brown\")\n",
    "\n",
    "plt.ylim(250, 310)\n",
    "plt.xticks(rotation=30, ha='right')\n",
    "plt.title('Broad Jump Distance Per Position')\n",
    "plt.ylabel('Broad Jump Distance CM')"
   ]
  },
  {
   "cell_type": "code",
   "execution_count": 18,
   "id": "fdd2544c",
   "metadata": {},
   "outputs": [
    {
     "data": {
      "text/plain": [
       "Text(0.5, 20.799999999999983, 'Weight lbs')"
      ]
     },
     "execution_count": 18,
     "metadata": {},
     "output_type": "execute_result"
    },
    {
     "data": {
      "image/png": "[encoded data removed]",
      "text/plain": [
       "<Figure size 432x432 with 1 Axes>"
      ]
     },
     "metadata": {
      "needs_background": "light"
     },
     "output_type": "display_data"
    }
   ],
   "source": [
    "#created a scatter plot to show the direct correlation of a players weight, and how high they could jump. \n",
    "\n",
    "scatter = df3.sample(n=500)\n",
    "sns.lmplot( x=\"Weight\", y=\"Vertical_Jump\", height = 6, data=scatter, fit_reg=False, hue='Position_Type',\n",
    "           legend=False,)\n",
    "plt.legend(loc='upper right')\n",
    "plt.ylabel('Vertical Jump cm')\n",
    "plt.xlabel('Weight lbs')\n",
    "\n"
   ]
  },
  {
   "cell_type": "code",
   "execution_count": 30,
   "id": "f98b7ff3",
   "metadata": {},
   "outputs": [
    {
     "data": {
      "text/plain": [
       "Text(0, 0.5, 'Frequency')"
      ]
     },
     "execution_count": 30,
     "metadata": {},
     "output_type": "execute_result"
    },
    {
     "data": {
      "image/png": "[encoded data removed]",
      "text/plain": [
       "<Figure size 432x288 with 1 Axes>"
      ]
     },
     "metadata": {
      "needs_background": "light"
     },
     "output_type": "display_data"
    }
   ],
   "source": [
    "#used two seperate historgrams to show a direct comparison of two different positions doing the bench press test.\n",
    "\n",
    "sns.histplot(Backs_recievers['Bench_Press_Reps'],  kde=False, label='Defensive Backs',\n",
    "             color = 'red', bins = 17)\n",
    "sns.histplot(Oline_jump ['Bench_Press_Reps'], kde=False, label='Offensive Lineman',\n",
    "             color = 'blue', bins = 17)\n",
    "plt.legend(prop={'size': 10})\n",
    "plt.title('Bench Press Reps of Two Positions')\n",
    "plt.xlabel('Bench Press Reps (225 lbs)')\n",
    "plt.ylabel('Frequency')"
   ]
  },
  {
   "cell_type": "code",
   "execution_count": 20,
   "id": "3e1e4b42",
   "metadata": {},
   "outputs": [
    {
     "data": {
      "text/html": [
       "<div>\n",
       "<style scoped>\n",
       "    .dataframe tbody tr th:only-of-type {\n",
       "        vertical-align: middle;\n",
       "    }\n",
       "\n",
       "    .dataframe tbody tr th {\n",
       "        vertical-align: top;\n",
       "    }\n",
       "\n",
       "    .dataframe thead th {\n",
       "        text-align: right;\n",
       "    }\n",
       "</style>\n",
       "<table border=\"1\" class=\"dataframe\">\n",
       "  <thead>\n",
       "    <tr style=\"text-align: right;\">\n",
       "      <th></th>\n",
       "      <th>Weight</th>\n",
       "      <th>Height</th>\n",
       "    </tr>\n",
       "  </thead>\n",
       "  <tbody>\n",
       "    <tr>\n",
       "      <th>Weight</th>\n",
       "      <td>1.000000</td>\n",
       "      <td>0.731324</td>\n",
       "    </tr>\n",
       "    <tr>\n",
       "      <th>Height</th>\n",
       "      <td>0.731324</td>\n",
       "      <td>1.000000</td>\n",
       "    </tr>\n",
       "  </tbody>\n",
       "</table>\n",
       "</div>"
      ],
      "text/plain": [
       "          Weight    Height\n",
       "Weight  1.000000  0.731324\n",
       "Height  0.731324  1.000000"
      ]
     },
     "execution_count": 20,
     "metadata": {},
     "output_type": "execute_result"
    }
   ],
   "source": [
    "df3[['Weight','Height']].corr()"
   ]
  },
  {
   "cell_type": "code",
   "execution_count": 21,
   "id": "fc2226c5",
   "metadata": {},
   "outputs": [
    {
     "data": {
      "text/plain": [
       "<AxesSubplot:>"
      ]
     },
     "execution_count": 21,
     "metadata": {},
     "output_type": "execute_result"
    },
    {
     "data": {
      "image/png": "[encoded data removed]",
      "text/plain": [
       "<Figure size 432x288 with 2 Axes>"
      ]
     },
     "metadata": {
      "needs_background": "light"
     },
     "output_type": "display_data"
    }
   ],
   "source": [
    "#created a heatmap to show the direct correlations between each column \n",
    "sns.heatmap(df3.corr(), annot = True, fmt='.2g',cmap= 'coolwarm')\n"
   ]
  },
  {
   "cell_type": "code",
   "execution_count": 37,
   "id": "2f4f5864",
   "metadata": {},
   "outputs": [
    {
     "data": {
      "text/plain": [
       "Text(0, 0.5, 'Player Position')"
      ]
     },
     "execution_count": 37,
     "metadata": {},
     "output_type": "execute_result"
    },
    {
     "data": {
      "image/png": "[encoded data removed]",
      "text/plain": [
       "<Figure size 432x288 with 1 Axes>"
      ]
     },
     "metadata": {
      "needs_background": "light"
     },
     "output_type": "display_data"
    }
   ],
   "source": [
    "#visualized the comparison of 40 yard dash test per position by implementing a box graph \n",
    "\n",
    "sns.boxplot(data=df3, x=\"Sprint_40yd\", y=\"Position_Type\", hue=\"Position_Type\", dodge=False)\n",
    "plt.legend(loc='upper right')\n",
    "plt.legend(prop={'size': 8})\n",
    "plt.title('40yd Dash Position Comparison')\n",
    "plt.xlabel('40yd Dash Time')\n",
    "plt.ylabel('Player Position')"
   ]
  }
 ],
 "metadata": {
  "kernelspec": {
   "display_name": "Python 3 (ipykernel)",
   "language": "python",
   "name": "python3"
  },
  "language_info": {
   "codemirror_mode": {
    "name": "ipython",
    "version": 3
   },
   "file_extension": ".py",
   "mimetype": "text/x-python",
   "name": "python",
   "nbconvert_exporter": "python",
   "pygments_lexer": "ipython3",
   "version": "3.10.11"
  }
 },
 "nbformat": 4,
 "nbformat_minor": 5
}
